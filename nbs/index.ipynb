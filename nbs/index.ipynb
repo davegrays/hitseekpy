{
 "cells": [
  {
   "cell_type": "code",
   "execution_count": null,
   "metadata": {},
   "outputs": [],
   "source": [
    "#| hide\n",
    "from hitseekpy.scores import *"
   ]
  },
  {
   "cell_type": "markdown",
   "metadata": {},
   "source": [
    "# hitseekpy\n",
    "\n",
    "> python implementation of HiTSeekR"
   ]
  },
  {
   "cell_type": "markdown",
   "metadata": {},
   "source": [
    "This file will become your README and also the index of your documentation."
   ]
  },
  {
   "cell_type": "markdown",
   "metadata": {},
   "source": [
    "## Install"
   ]
  },
  {
   "cell_type": "markdown",
   "metadata": {},
   "source": [
    "```sh\n",
    "pip install hitseekpy\n",
    "```"
   ]
  },
  {
   "cell_type": "markdown",
   "metadata": {},
   "source": [
    "## How to use"
   ]
  },
  {
   "cell_type": "code",
   "execution_count": null,
   "metadata": {},
   "outputs": [],
   "source": [
    "import pandas as pd\n",
    "\n",
    "from hitseekpy.proc import Plate\n",
    "from hitseekpy.scores import get_b_scores, get_z_scores"
   ]
  },
  {
   "cell_type": "markdown",
   "metadata": {},
   "source": [
    "### prepare the data"
   ]
  },
  {
   "cell_type": "code",
   "execution_count": null,
   "metadata": {},
   "outputs": [
    {
     "data": {
      "text/html": [
       "<div>\n",
       "<style scoped>\n",
       "    .dataframe tbody tr th:only-of-type {\n",
       "        vertical-align: middle;\n",
       "    }\n",
       "\n",
       "    .dataframe tbody tr th {\n",
       "        vertical-align: top;\n",
       "    }\n",
       "\n",
       "    .dataframe thead th {\n",
       "        text-align: right;\n",
       "    }\n",
       "</style>\n",
       "<table border=\"1\" class=\"dataframe\">\n",
       "  <thead>\n",
       "    <tr style=\"text-align: right;\">\n",
       "      <th></th>\n",
       "      <th>WELL</th>\n",
       "      <th>RAW_VALUE_A</th>\n",
       "    </tr>\n",
       "  </thead>\n",
       "  <tbody>\n",
       "    <tr>\n",
       "      <th>0</th>\n",
       "      <td>A01</td>\n",
       "      <td>1960.0</td>\n",
       "    </tr>\n",
       "    <tr>\n",
       "      <th>1</th>\n",
       "      <td>A02</td>\n",
       "      <td>1400.0</td>\n",
       "    </tr>\n",
       "    <tr>\n",
       "      <th>2</th>\n",
       "      <td>A03</td>\n",
       "      <td>1600.0</td>\n",
       "    </tr>\n",
       "    <tr>\n",
       "      <th>3</th>\n",
       "      <td>A04</td>\n",
       "      <td>1560.0</td>\n",
       "    </tr>\n",
       "    <tr>\n",
       "      <th>4</th>\n",
       "      <td>A05</td>\n",
       "      <td>1640.0</td>\n",
       "    </tr>\n",
       "    <tr>\n",
       "      <th>...</th>\n",
       "      <td>...</td>\n",
       "      <td>...</td>\n",
       "    </tr>\n",
       "    <tr>\n",
       "      <th>379</th>\n",
       "      <td>P20</td>\n",
       "      <td>1800.0</td>\n",
       "    </tr>\n",
       "    <tr>\n",
       "      <th>380</th>\n",
       "      <td>P21</td>\n",
       "      <td>1240.0</td>\n",
       "    </tr>\n",
       "    <tr>\n",
       "      <th>381</th>\n",
       "      <td>P22</td>\n",
       "      <td>1520.0</td>\n",
       "    </tr>\n",
       "    <tr>\n",
       "      <th>382</th>\n",
       "      <td>P23</td>\n",
       "      <td>1200.0</td>\n",
       "    </tr>\n",
       "    <tr>\n",
       "      <th>383</th>\n",
       "      <td>P24</td>\n",
       "      <td>1480.0</td>\n",
       "    </tr>\n",
       "  </tbody>\n",
       "</table>\n",
       "<p>384 rows × 2 columns</p>\n",
       "</div>"
      ],
      "text/plain": [
       "    WELL  RAW_VALUE_A\n",
       "0    A01       1960.0\n",
       "1    A02       1400.0\n",
       "2    A03       1600.0\n",
       "3    A04       1560.0\n",
       "4    A05       1640.0\n",
       "..   ...          ...\n",
       "379  P20       1800.0\n",
       "380  P21       1240.0\n",
       "381  P22       1520.0\n",
       "382  P23       1200.0\n",
       "383  P24       1480.0\n",
       "\n",
       "[384 rows x 2 columns]"
      ]
     },
     "execution_count": null,
     "metadata": {},
     "output_type": "execute_result"
    }
   ],
   "source": [
    "# load plate data and make sure wells are properly labeled\n",
    "df = pd.read_csv(\"assay.1156.0009.tsv\", delimiter=\"\\t\")\n",
    "df[[\"WELL\", \"RAW_VALUE_A\"]]"
   ]
  },
  {
   "cell_type": "code",
   "execution_count": null,
   "metadata": {},
   "outputs": [
    {
     "name": "stdout",
     "output_type": "stream",
     "text": [
      "[1960. 1400. 1600. 1560. 1640.]\n",
      "[1800. 1240. 1520. 1200. 1480.]\n"
     ]
    }
   ],
   "source": [
    "# extract well values into a 2d array\n",
    "p = Plate(df, n_rows=16, n_cols=24, well_column=\"WELL\", value_column=\"RAW_VALUE_A\")\n",
    "\n",
    "# check that they match the df\n",
    "print(p.vals[0, :5])\n",
    "print(p.vals[-1, -5:])"
   ]
  },
  {
   "cell_type": "markdown",
   "metadata": {},
   "source": [
    "### show z-scores"
   ]
  },
  {
   "cell_type": "code",
   "execution_count": null,
   "metadata": {},
   "outputs": [
    {
     "data": {
      "text/plain": [
       "array([[ 2.38139535, -0.39689922,  0.59534884,  0.39689922,  0.79379845],\n",
       "       [-0.79379845,  0.99224806, -0.79379845, -1.19069767, -0.19844961],\n",
       "       [ 1.19069767, -0.99224806,  0.        , -0.19844961,  0.99224806],\n",
       "       [-0.99224806,  0.        ,  0.99224806,  0.19844961,  0.99224806],\n",
       "       [-0.39689922,  1.98449612,  0.        , -0.39689922,  2.77829457]])"
      ]
     },
     "execution_count": null,
     "metadata": {},
     "output_type": "execute_result"
    }
   ],
   "source": [
    "z_scores = get_z_scores(p.vals)\n",
    "# show just the first 5 rows and columns\n",
    "z_scores[0:5, 0:5]"
   ]
  },
  {
   "cell_type": "markdown",
   "metadata": {},
   "source": [
    "### show b-scores"
   ]
  },
  {
   "cell_type": "code",
   "execution_count": null,
   "metadata": {},
   "outputs": [],
   "source": [
    "b_scores_dict = get_b_scores(p.vals)"
   ]
  },
  {
   "cell_type": "code",
   "execution_count": null,
   "metadata": {},
   "outputs": [
    {
     "data": {
      "text/plain": [
       "array([  38.359375 ,  -24.0625   , -101.40625  ,  -92.1484375,\n",
       "         51.171875 ,    5.3125   ,   -2.6171875,  -89.6484375,\n",
       "         42.1875   ,   38.359375 ,    2.1875   ,   73.9453125,\n",
       "          8.125    ,  146.5234375,  -73.359375 ,  -17.6953125,\n",
       "         47.9296875,   76.6015625,  -66.5234375,  -46.1328125,\n",
       "        -65.       , -184.9609375, -132.1875   ,   27.8125   ])"
      ]
     },
     "execution_count": null,
     "metadata": {},
     "output_type": "execute_result"
    }
   ],
   "source": [
    "b_scores_dict[\"row_effect\"]"
   ]
  },
  {
   "cell_type": "code",
   "execution_count": null,
   "metadata": {},
   "outputs": [
    {
     "data": {
      "text/plain": [
       "array([  50.6640625, -177.2265625,   55.8984375,  102.8515625,\n",
       "         88.2421875,  -23.8671875,    8.4765625,   -2.8515625,\n",
       "         57.3046875,    8.4765625,    2.8515625,   -7.8515625,\n",
       "        -69.1796875, -106.6796875,  -97.1484375,  -77.7734375])"
      ]
     },
     "execution_count": null,
     "metadata": {},
     "output_type": "execute_result"
    }
   ],
   "source": [
    "b_scores_dict[\"column_effect\"]"
   ]
  },
  {
   "cell_type": "code",
   "execution_count": null,
   "metadata": {},
   "outputs": [
    {
     "data": {
      "text/plain": [
       "array([[ 2.26025391e+00, -8.49609375e-01,  8.83789062e-01,\n",
       "         5.75927734e-01,  1.80175781e-01],\n",
       "       [-3.15429688e-01,  2.32470703e+00,  5.58105469e-01,\n",
       "         2.44140625e-04,  3.54492188e-01],\n",
       "       [ 7.27539062e-01, -1.63232422e+00,  1.01074219e-01,\n",
       "        -2.06787109e-01,  3.97460938e-01],\n",
       "       [-2.31591797e+00, -6.75781250e-01,  1.05761719e+00,\n",
       "        -2.44140625e-04,  1.04003906e-01],\n",
       "       [-1.47460938e+00,  1.91552734e+00, -1.01074219e-01,\n",
       "        -6.58935547e-01,  2.44531250e+00]])"
      ]
     },
     "execution_count": null,
     "metadata": {},
     "output_type": "execute_result"
    }
   ],
   "source": [
    "# show just the first 5 rows and columns\n",
    "b_scores_dict[\"normalized\"][0:5, 0:5]"
   ]
  }
 ],
 "metadata": {
  "kernelspec": {
   "display_name": "Python 3 (ipykernel)",
   "language": "python",
   "name": "python3"
  }
 },
 "nbformat": 4,
 "nbformat_minor": 4
}
